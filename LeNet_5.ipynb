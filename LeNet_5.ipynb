{
  "nbformat": 4,
  "nbformat_minor": 0,
  "metadata": {
    "colab": {
      "name": "LeNet-5.ipynb",
      "provenance": [],
      "collapsed_sections": []
    },
    "kernelspec": {
      "name": "python3",
      "display_name": "Python 3"
    },
    "language_info": {
      "name": "python"
    },
    "accelerator": "GPU"
  },
  "cells": [
    {
      "cell_type": "code",
      "execution_count": 2,
      "metadata": {
        "colab": {
          "base_uri": "https://localhost:8080/"
        },
        "id": "y5Snl2VrtOtB",
        "outputId": "a39bcad7-f151-476d-fdad-b091968a130b"
      },
      "outputs": [
        {
          "output_type": "stream",
          "name": "stdout",
          "text": [
            "Mounted at LeNet-5\n"
          ]
        }
      ],
      "source": [
        "from google.colab import drive\n",
        "drive.mount('LeNet-5')"
      ]
    },
    {
      "cell_type": "code",
      "source": [
        "import numpy as np\n",
        "from datetime import datetime\n",
        "\n",
        "import torch\n",
        "import torch.nn as nn\n",
        "import torch.nn.functional as F\n",
        "from torch.utils.data import DataLoader\n",
        "\n",
        "from torchvision import datasets, transforms\n",
        "\n",
        "import matplotlib.pyplot as plt\n",
        "\n",
        "DEVICE = 'cuda' if torch.cuda.is_available() else 'cpu'"
      ],
      "metadata": {
        "id": "4uePTHNTuTGV"
      },
      "execution_count": 3,
      "outputs": []
    },
    {
      "cell_type": "code",
      "source": [
        "RANDOM_SEED = 42\n",
        "LEARNING_RATE = 0.001\n",
        "BATCH_SIZE = 32\n",
        "N_EPOCHS = 15\n",
        "\n",
        "IMG_SIZE = 32\n",
        "N_CLASSES = 10"
      ],
      "metadata": {
        "id": "OZin9xW9uxEv"
      },
      "execution_count": 4,
      "outputs": []
    },
    {
      "cell_type": "code",
      "source": [
        "#정확도 구하는 function과\n",
        "#손실을 시각화 하는 function 정의\n",
        "def get_accuracy(model, data_loader, device):\n",
        "  correct_pred = 0\n",
        "  n = 0\n",
        "\n",
        "  with torch.no_grad():\n",
        "    model.eval()\n",
        "    for X, y_true in data_loader:\n",
        "\n",
        "      X = X.to(device)\n",
        "      y_true = y_true.to(device)\n",
        "\n",
        "      _, y_prob = model(X)\n",
        "      _, predicted_labels = torch.max(y_prob,1)\n",
        "\n",
        "      n += y_true.size(0)\n",
        "      correct_pred += (predicted_labels == y_true).sum()\n",
        "\n",
        "  return correct_pred.float() / n\n",
        "\n",
        "def plot_losses(train_losses, valid_losses):\n",
        "\n",
        "  plt.style.use('seaborn')\n",
        "\n",
        "  train_losses = np.array(train_losses)\n",
        "  valid_losses = np.array(valid_losses)\n",
        "\n",
        "  fig, ax = plt.subplots(figsize = (8, 4.5))\n",
        "\n",
        "  ax.plot(train_losses, color = 'blue', label = 'Training loss')\n",
        "  ax.plot(valid_losses, color= 'red', label = 'Validation loss')\n",
        "  ax.set(title = \"Loss over epochs\", xlabel = 'Epoch', ylabel = 'Loss')\n",
        "  ax.legend()\n",
        "  fig.show()\n",
        "\n",
        "  plt.style.use('default')"
      ],
      "metadata": {
        "id": "hOXDeLR0u9T_"
      },
      "execution_count": 5,
      "outputs": []
    },
    {
      "cell_type": "code",
      "source": [
        "#training data에 사용되는 helper 함수 정의하기\n",
        "def train(train_loader, model, criterion, optimizer, device):\n",
        "  model.train()\n",
        "  running_loss = 0\n",
        "\n",
        "  for X, y_true in train_loader:\n",
        "\n",
        "    optimizer.zero_grad()\n",
        "\n",
        "    X = X.to(device)\n",
        "    y_true = y_true.to(device)\n",
        "\n",
        "    y_hat,_ = model(X)\n",
        "    loss = criterion(y_hat, y_true)\n",
        "    running_loss += loss.item() * X.size(0)\n",
        "\n",
        "    loss.backward()\n",
        "    optimizer.step()\n",
        "\n",
        "  epoch_loss = running_loss / len(train_loader.dataset)\n",
        "  return model, optimizer, epoch_loss"
      ],
      "metadata": {
        "id": "2cakSTaZxoGc"
      },
      "execution_count": 6,
      "outputs": []
    },
    {
      "cell_type": "code",
      "source": [
        "#validation data에 사용되는 함수 정의(역전파 진행하지 않음)\n",
        "def validate(valid_loader, model, criterion, device):\n",
        "\n",
        "  model.eval()\n",
        "  running_loss = 0\n",
        "\n",
        "  for X, y_true in valid_loader:\n",
        "\n",
        "    X = X.to(device)\n",
        "    y_true = y_true.to(device)\n",
        "\n",
        "    y_hat,_ = model(X)\n",
        "    loss = criterion(y_hat, y_true)\n",
        "    running_loss += loss.item() * X.size(0)\n",
        "\n",
        "  epoch_loss = running_loss / len(valid_loader.dataset)\n",
        "\n",
        "  return model,epoch_loss"
      ],
      "metadata": {
        "id": "kwzWzV8QyQjG"
      },
      "execution_count": 7,
      "outputs": []
    },
    {
      "cell_type": "code",
      "source": [
        "def training_loop(model, criterion, optimizer, train_loader, valid_loader, epochs, device, print_every = 1):\n",
        "  best_loss = 1e10\n",
        "  train_losses = []\n",
        "  valid_losses = []\n",
        "\n",
        "  for epoch in range(0,epochs):\n",
        "    model, optimizer, train_loss = train(train_loader, model, criterion, optimizer, device)\n",
        "    train_losses.append(train_loss)\n",
        "\n",
        "    with torch.no_grad():\n",
        "      model, valid_loss = validate(valid_loader, model, criterion, device)\n",
        "      valid_losses.append(valid_loss)\n",
        "\n",
        "    if epoch % print_every == (print_every - 1):\n",
        "      train_acc = get_accuracy(model, train_loader, device = device)\n",
        "      valid_acc = get_accuracy(model, valid_loader, device = device)\n",
        "\n",
        "  print(f'{datetime.now().time().replace(microsecond=0)} --- '\n",
        "                  f'Epoch: {epoch}\\t'\n",
        "                  f'Train loss: {train_loss:.4f}\\t'\n",
        "                  f'Valid loss: {valid_loss:.4f}\\t'\n",
        "                  f'Train accuracy: {100 * train_acc:.2f}\\t'\n",
        "                  f'Valid accuracy: {100 * valid_acc:.2f}')\n",
        "\n",
        "  plot_losses(train_losses, valid_losses)\n",
        "    \n",
        "  return model, optimizer, (train_losses, valid_losses)"
      ],
      "metadata": {
        "id": "LsAjXuGEyzra"
      },
      "execution_count": 8,
      "outputs": []
    },
    {
      "cell_type": "code",
      "source": [
        "#data 준비\n",
        "transforms = transforms.Compose([transforms.Resize((32,32)), transforms.ToTensor()])\n",
        "\n",
        "train_dataset= datasets.MNIST(root='mnist_data', train = True, transform = transforms, download = True)\n",
        "\n",
        "valid_dataset = datasets.MNIST(root = 'mnist_data', train = False, transform = transforms)\n",
        "\n",
        "train_loader = DataLoader(dataset = train_dataset, batch_size = BATCH_SIZE, shuffle = True)\n",
        "valid_loader = DataLoader(dataset = valid_dataset, batch_size = BATCH_SIZE, shuffle = False)"
      ],
      "metadata": {
        "id": "4Dll0Rhm1ZJ3"
      },
      "execution_count": null,
      "outputs": []
    },
    {
      "cell_type": "code",
      "source": [
        "class LeNet5(nn.Module):\n",
        "\n",
        "    def __init__(self, n_classes):\n",
        "        super(LeNet5, self).__init__()\n",
        "        \n",
        "        self.feature_extractor = nn.Sequential(            \n",
        "            nn.Conv2d(in_channels=1, out_channels=6, kernel_size=5, stride=1),\n",
        "            nn.Tanh(),\n",
        "            nn.AvgPool2d(kernel_size=2),\n",
        "            nn.Conv2d(in_channels=6, out_channels=16, kernel_size=5, stride=1),\n",
        "            nn.Tanh(),\n",
        "            nn.AvgPool2d(kernel_size=2),\n",
        "            nn.Conv2d(in_channels=16, out_channels=120, kernel_size=5, stride=1),\n",
        "            nn.Tanh()\n",
        "        )\n",
        "\n",
        "        self.classifier = nn.Sequential(\n",
        "            nn.Linear(in_features=120, out_features=84),\n",
        "            nn.Tanh(),\n",
        "            nn.Linear(in_features=84, out_features=n_classes),\n",
        "        )\n",
        "\n",
        "\n",
        "    def forward(self, x):\n",
        "        x = self.feature_extractor(x)\n",
        "        x = torch.flatten(x, 1)\n",
        "        logits = self.classifier(x)\n",
        "        probs = F.softmax(logits, dim=1)\n",
        "        return logits, probs"
      ],
      "metadata": {
        "id": "vDI1mvJWEG-r"
      },
      "execution_count": 11,
      "outputs": []
    },
    {
      "cell_type": "code",
      "source": [
        "#model, optimizer, loss function 설정하기\n",
        "torch.manual_seed(RANDOM_SEED)\n",
        "\n",
        "model = LeNet5(N_CLASSES).to(DEVICE)\n",
        "optimizer = torch.optim.Adam(model.parameters(), lr = LEARNING_RATE)\n",
        "criterion = nn.CrossEntropyLoss()"
      ],
      "metadata": {
        "id": "Lfg2qfddCY4Q"
      },
      "execution_count": 12,
      "outputs": []
    },
    {
      "cell_type": "code",
      "source": [
        "#신경망 학습\n",
        "model, optimizer, _ = training_loop(model, criterion, optimizer, train_loader, valid_loader, N_EPOCHS, DEVICE)"
      ],
      "metadata": {
        "colab": {
          "base_uri": "https://localhost:8080/",
          "height": 341
        },
        "id": "HyhPIh8qCsTB",
        "outputId": "c64a196b-b9e8-4b21-e1d2-915761ffe6bd"
      },
      "execution_count": 13,
      "outputs": [
        {
          "output_type": "stream",
          "name": "stdout",
          "text": [
            "03:40:37 --- Epoch: 14\tTrain loss: 0.0110\tValid loss: 0.0402\tTrain accuracy: 99.78\tValid accuracy: 98.87\n"
          ]
        },
        {
          "output_type": "display_data",
          "data": {
            "text/plain": [
              "<Figure size 576x324 with 1 Axes>"
            ],
            "image/png": "[encoded data removed]"
          },
          "metadata": {}
        }
      ]
    }
  ]
}